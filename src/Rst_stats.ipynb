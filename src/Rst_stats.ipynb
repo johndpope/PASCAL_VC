{
 "cells": [
  {
   "cell_type": "code",
   "execution_count": 2,
   "metadata": {
    "collapsed": true
   },
   "outputs": [],
   "source": [
    "import pickle\n",
    "import numpy as np\n",
    "\n",
    "cat_to_idx = dict()\n",
    "cat_to_idx['aeroplane'] = [404,895]\n",
    "cat_to_idx['bicycle'] = [444,671]\n",
    "cat_to_idx['boat'] = [628,510,814,914,472,871,484,780,625]\n",
    "cat_to_idx['bottle'] = [440,737,898,907]\n",
    "cat_to_idx['bus'] = [874,654,779]\n",
    "cat_to_idx['car'] = [436,656,717,751,817,609,511,627,468,407,661]\n",
    "cat_to_idx['chair'] = [559, 765]\n",
    "cat_to_idx['diningtable'] = [532]\n",
    "cat_to_idx['motorbike'] = [665,670]\n",
    "cat_to_idx['sofa'] = [831]\n",
    "cat_to_idx['train'] = [466,547,705,820]\n",
    "cat_to_idx['tvmonitor'] = [664,782,851]"
   ]
  },
  {
   "cell_type": "code",
   "execution_count": 12,
   "metadata": {
    "collapsed": true
   },
   "outputs": [],
   "source": [
    "lb_map_file='/mnt/1TB_SSD/dataset/ILSVRC12/list_fg/cls_labels_1000.txt'\n",
    "with open(lb_map_file,'r') as fh:\n",
    "    contents=fh.readlines()\n",
    "    \n",
    "lb_code=[cc.strip().split(' ',1)[0] for cc in contents]\n",
    "lb_txt=[cc.strip().split(' ',1)[1] for cc in contents]"
   ]
  },
  {
   "cell_type": "code",
   "execution_count": 4,
   "metadata": {},
   "outputs": [
    {
     "name": "stdout",
     "output_type": "stream",
     "text": [
      "0.1001031991744066\n",
      "0.6108527131782946\n",
      "0.16052880075542966\n",
      "0.09370816599732262\n",
      "0.599624060150376\n",
      "0.5117994100294986\n",
      "0.34516765285996054\n",
      "0.3104943625325238\n",
      "0.32046979865771813\n",
      "0.08173076923076923\n",
      "0.2631578947368421\n",
      "0.0932475884244373\n"
     ]
    }
   ],
   "source": [
    "all_categories=['aeroplane','bicycle', 'boat', 'bottle', 'bus', 'car', 'chair', 'diningtable', 'motorbike', 'sofa', 'train', 'tvmonitor']\n",
    "for category in all_categories:\n",
    "    VGG_rst_file = '/mnt/1TB_SSD/qing/PASCAL_adv/result_vgg/VGG_predict_{}_unvr.pickle'.format(category)\n",
    "    with open(VGG_rst_file,'rb') as fh:\n",
    "        rst=pickle.load(fh)\n",
    "    \n",
    "    \n",
    "#     adv_file = '/mnt/1TB_SSD/qing/PASCAL_adv/adv/adv_img_{}.pickle'.format(category)\n",
    "#     with open(adv_file,'rb') as fh:\n",
    "#         r_ls, _=pickle.load(fh)\n",
    "        \n",
    "#     assert(rst.shape[0]==len(r_ls))\n",
    "    \n",
    "\n",
    "    N = len(rst)\n",
    "\n",
    "    positive=0\n",
    "    Ncnt=0\n",
    "    for nn in range(N):\n",
    "        # if np.max(np.absolute(r_ls[nn]))>15:\n",
    "        #     continue\n",
    "            \n",
    "        Ncnt+=1\n",
    "        pred_idx = rst[nn]\n",
    "        if pred_idx in cat_to_idx[category]:\n",
    "            positive+=1\n",
    "\n",
    "    print(positive/Ncnt)"
   ]
  },
  {
   "cell_type": "code",
   "execution_count": null,
   "metadata": {
    "collapsed": true
   },
   "outputs": [],
   "source": []
  },
  {
   "cell_type": "code",
   "execution_count": 30,
   "metadata": {},
   "outputs": [
    {
     "name": "stdout",
     "output_type": "stream",
     "text": [
      "0.9259259259259259\n",
      "0.9866666666666667\n",
      "0.9137380191693291\n",
      "0.9047619047619048\n",
      "0.967741935483871\n",
      "0.9404761904761905\n",
      "0.9252336448598131\n",
      "0.93993993993994\n",
      "0.7254901960784313\n",
      "0.9421965317919075\n",
      "0.8402366863905325\n",
      "0.9236641221374046\n"
     ]
    }
   ],
   "source": [
    "for category in all_categories:\n",
    "    VC_rst_file = '/mnt/1TB_SSD/qing/PASCAL_adv/result/scores_{}.pickle'.format(category)\n",
    "    with open(VC_rst_file,'rb') as fh:\n",
    "        scores, scores2=pickle.load(fh)\n",
    "        \n",
    "    adv_file = '/mnt/1TB_SSD/qing/PASCAL_adv/adv/adv_img_{}.pickle'.format(category)\n",
    "    with open(adv_file,'rb') as fh:\n",
    "        r_ls, _=pickle.load(fh)\n",
    "        \n",
    "    assert(scores.shape[0]==len(r_ls))\n",
    "    \n",
    "\n",
    "    N = scores.shape[0]\n",
    "\n",
    "    positive=0\n",
    "    Ncnt=0\n",
    "    for nn in range(N):\n",
    "        if np.max(np.absolute(r_ls[nn]))>15:\n",
    "            continue\n",
    "            \n",
    "        Ncnt+=1\n",
    "        pred_idx = np.argmax(scores[nn])\n",
    "        if pred_idx == all_categories.index(category):\n",
    "            positive+=1\n",
    "\n",
    "    print(positive/Ncnt)\n",
    "    "
   ]
  },
  {
   "cell_type": "code",
   "execution_count": 23,
   "metadata": {},
   "outputs": [
    {
     "name": "stdout",
     "output_type": "stream",
     "text": [
      "0 0\n"
     ]
    }
   ],
   "source": []
  },
  {
   "cell_type": "code",
   "execution_count": null,
   "metadata": {
    "collapsed": true
   },
   "outputs": [],
   "source": []
  }
 ],
 "metadata": {
  "kernelspec": {
   "display_name": "Python 3",
   "language": "python",
   "name": "python3"
  },
  "language_info": {
   "codemirror_mode": {
    "name": "ipython",
    "version": 3
   },
   "file_extension": ".py",
   "mimetype": "text/x-python",
   "name": "python",
   "nbconvert_exporter": "python",
   "pygments_lexer": "ipython3",
   "version": "3.6.1"
  }
 },
 "nbformat": 4,
 "nbformat_minor": 2
}
